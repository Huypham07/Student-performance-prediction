{
  "nbformat": 4,
  "nbformat_minor": 0,
  "metadata": {
    "colab": {
      "provenance": [],
      "authorship_tag": "ABX9TyPEWwJ5DUVLn567kkCz5E03",
      "include_colab_link": true
    },
    "kernelspec": {
      "name": "python3",
      "display_name": "Python 3"
    },
    "language_info": {
      "name": "python"
    }
  },
  "cells": [
    {
      "cell_type": "markdown",
      "metadata": {
        "id": "view-in-github",
        "colab_type": "text"
      },
      "source": [
        "<a href=\"https://colab.research.google.com/github/Huypham07/Student-performance-prediction/blob/huy-branch/Student_Performance_Prediction.ipynb\" target=\"_parent\"><img src=\"https://colab.research.google.com/assets/colab-badge.svg\" alt=\"Open In Colab\"/></a>"
      ]
    },
    {
      "cell_type": "markdown",
      "source": [
        "# Phân tích các yếu tố ảnh hưởng đến điểm và dự đoán học sinh có nguy cơ trượt môn\n",
        "\n",
        "**Môn học:** Data Science  \n",
        "**Nhóm:** [Điền tên các thành viên]  \n",
        "**Dataset:** Student Performance Prediction  \n",
        "\n",
        "---\n",
        "\n",
        "## Mục tiêu:\n",
        "1. Phân tích mô tả dữ liệu, tìm hiểu các yếu tố ảnh hưởng đến điểm số học sinh.\n",
        "2. Xây dựng mô hình hồi quy để dự đoán điểm môn Toán.\n",
        "3. Phân loại học sinh có nguy cơ rớt môn Toán (điểm < 40).\n",
        "\n",
        "---\n",
        "## Outline các phần chính:\n",
        "1. Nhập dữ liệu và khám phá tổng quan\n",
        "2. Phân tích dữ liệu (EDA)\n",
        "3. Tiền xử lý dữ liệu\n",
        "4. Hồi quy: Dự đoán điểm Toán\n",
        "5. Phân loại: Phát hiện học sinh có nguy cơ trượt\n",
        "6. Đánh giá và So sánh mô hình\n",
        "7. Kết luận và kiến nghị\n"
      ],
      "metadata": {
        "id": "-x4UDtM1_85x"
      }
    },
    {
      "cell_type": "markdown",
      "source": [
        "## 2. Phân tích mô tả dữ liệu (EDA)\n",
        "- Kiểm tra thông tin cơ bản\n",
        "- Phân phối điểm toán, phân tích theo giới tính, học ôn, bữa trưa, học vấn phụ huynh\n",
        "- Heatmap tương quan"
      ],
      "metadata": {
        "id": "XSvEQL-VAAVY"
      }
    },
    {
      "cell_type": "markdown",
      "source": [
        "## 3. Tiền xử lý dữ liệu"
      ],
      "metadata": {
        "id": "I1tXtGGSAIWe"
      }
    }
  ]
}