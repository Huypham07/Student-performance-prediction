{
 "cells": [
  {
   "cell_type": "markdown",
   "metadata": {},
   "source": [
    "# Phân tích các yếu tố ảnh hưởng đến điểm và dự đoán học sinh có nguy cơ trượt môn\n",
    "\n",
    "**Môn học:** Data Science  \n",
    "**Nhóm:** [Điền tên các thành viên]  \n",
    "**Dataset:** Student Performance Prediction  \n",
    "\n",
    "---\n",
    "\n",
    "## Mục tiêu:\n",
    "1. Phân tích mô tả dữ liệu, tìm hiểu các yếu tố ảnh hưởng đến điểm số học sinh.\n",
    "2. Xây dựng mô hình hồi quy để dự đoán điểm môn Toán.\n",
    "3. Phân loại học sinh có nguy cơ rớt môn Toán (điểm < 40).\n",
    "\n",
    "---\n",
    "## Outline các phần chính:\n",
    "1. Nhập dữ liệu và khám phá tổng quan\n",
    "2. Phân tích dữ liệu (EDA)\n",
    "3. Tiền xử lý dữ liệu\n",
    "4. Hồi quy: Dự đoán điểm Toán\n",
    "5. Phân loại: Phát hiện học sinh có nguy cơ trượt\n",
    "6. Đánh giá và So sánh mô hình\n",
    "7. Kết luận và kiến nghị"
   ]
  },
  {
   "cell_type": "markdown",
   "metadata": {},
   "source": [
    "## 2. Phân tích mô tả dữ liệu (EDA)\n",
    "- Kiểm tra thông tin cơ bản\n",
    "- Phân phối điểm toán, phân tích theo giới tính, học ôn, bữa trưa, học vấn phụ huynh\n",
    "- Heatmap tương quan"
   ]
  },
  {
   "cell_type": "markdown",
   "metadata": {},
   "source": [
    "## 3. Tiền xử lý dữ liệu"
   ]
  }
 ],
 "metadata": {
  "kernelspec": {
   "display_name": "Python 3",
   "language": "python",
   "name": "python3"
  },
  "language_info": {
   "name": "python",
   "version": "3.10"
  }
 },
 "nbformat": 4,
 "nbformat_minor": 2
}
